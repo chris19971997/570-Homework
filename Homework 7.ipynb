{
 "cells": [
  {
   "cell_type": "markdown",
   "metadata": {},
   "source": [
    "# Homework 7 (due before class on 3/26)\n",
    "\n",
    "### Name: Xingyuan Chen\n"
   ]
  },
  {
   "cell_type": "markdown",
   "metadata": {},
   "source": [
    "## Instructions for typesetting math in Markdown cells\n",
    "\n",
    "It is possible to render mathematical expressions nicely in Markdown cells, using a type of script called \"LaTex\". LaTex the standard format for people in technical fields to write math nicely. (You can Google for examples of what you can do with LaTex.) \n",
    "\n",
    "To render an expression using LaTex, the expression must be enclosed with dollar signs. For example, the expression `$X>0$` is rendered $X>0$. A single dollar sign is for mathematical expressions within the same line, and double dollar signs are for a standalone mathematical expressions in its own line. Hence, `$$X > 0.$$` is rendered as  $$X>0.$$\n"
   ]
  },
  {
   "cell_type": "markdown",
   "metadata": {},
   "source": [
    "### Example of typesetting a LP\n",
    "\n",
    "**Decision variable:** Let $X$ and $Y$ denote the amount of product X and product Y to produce. \n",
    "\n",
    "**Objective and constraints:**\n",
    "$$\\begin{aligned}\n",
    "\\text{maximize} && 20X+10Y \\\\\n",
    "\\text{subject to:} \\\\\n",
    "\\text{(Material 1)} && 4X+Y & \\le 60 \\\\\n",
    "\\text{(Material 2)} && 2Y & \\le 48 \\\\\n",
    "\\text{(Labor)} && X+Y & \\le 30 \\\\\n",
    "\\text{(Non-negativity)} && X,Y & \\ge 0\n",
    "\\end{aligned}$$\n",
    "\n",
    "Notice that the variables $X$ and $Y$ are in a special font denoting mathematical variables. Moreover, notice that the linear program above is centered and aligned, both at the colons and at the signs ($\\le$ and $\\ge$). It is useful to learn to do such formating in Markdown in order to better communicate your LP formulations to others.\n",
    "\n",
    "Double click this Markdown cell to see the code that created the math. Then execute the cell again to render it."
   ]
  },
  {
   "cell_type": "markdown",
   "metadata": {},
   "source": [
    "### Explanation of above\n",
    "\n",
    "To make the linear program aligned, we not only use the double dollar signs, but also use the `\\begin{aligned} \\end{aligned}` commands. (Double click the linear program above to see the code.) Within this block of LaTex script,\n",
    "\n",
    "- `\\text{ }` is for displaying the enclosed string as plain text, without the mathematical rendering.\n",
    "- `&` is for alignment. The convention is right align before the first `&`, then left align between the first and second `&` of each line, then right align again between the second and third `&` and so on. Hence, to make it right aligned both before and after the colon, we use a double `&&` after the `\\text{}`. If this is confusing, you can simply copy this convention for this homework (`&&` after the explanation of constraint, and `&` before the sign). \n",
    "- `\\\\` is for creating a new line. Notice that we end the line early using `\\\\` for \"subject to\" and \"maximize\".\n",
    "- `\\le` (less than or equal to) is for $\\le$, and `\\ge` (greater than or equal to) is for $\\ge$. This looks better than $<=$ and $>=$.\n",
    "- `\\qquad` is for creating spacing within a line.\n",
    "\n",
    "**Unfortunately, it is difficult to debug LaTex within Jupyter notebook. Hence, if there is any error at all, then the LaTex will not render and you will see your original script.** When this happens, try to render one line at a time and see which line is causing the error. You can see more examples from all the posted in-class handouts. (Download the .ipynb file by viewing the handout note on NBViewer and clicking the download button to the top right of the screen.)"
   ]
  },
  {
   "cell_type": "markdown",
   "metadata": {},
   "source": [
    "## Q1: (Solving a LP manually by graphing)\n",
    "\n",
    "**(DMD Exercise 7.2)** The Magnetron Company manufactures and markets microwave ovens. Currently, the company produces two models: full-size and compact. Production is limited by the amount of labor available in the general assembly and electronic assembly departments, as well as by the demand for each model. Each full-size oven requires 2 hours of general assembly and 2 hours of electronic assembly, whereas each compact oven requires 1 hour of general assembly and 3 hours of electronic assembly. In the current production period, there are 500 hours of general assembly labor available and 800 hours of electronic assembly labor available. \n",
    "\n",
    "In additional, the company estimates that it can sell at most 220 full-size ovens and 180 compact ovens in the current production period. The earnings contribution per oven is 120 dollars for a full-size oven and 130 dollars for a compact oven. The company would like to find an earnings-maximizing production plan for the current production period. \n",
    "\n",
    "**A)** Formulate the above problem as a LP. (You must type your formulation into a Markdown cell following the typesetting instructions above. \n",
    "\n",
    "**Decision variable:** Let $F$ and $C$ denote the amount of full-size and compact ovens to produce. \n",
    "\n",
    "**Objective and constraints:**\n",
    "$$\\begin{aligned}\n",
    "\\text{maximize} && 120F+130C \\\\\n",
    "\\text{subject to:} \\\\\n",
    "\\text{(General Assembly)} && 2F+C & \\le 500 \\\\\n",
    "\\text{(Electronic Assembly)} && 2F+3C & \\le 800 \\\\\n",
    "\\text{(Demand for Full-size)} && F & \\le 220 \\\\\n",
    "\\text{(Demand for compact)} && C & \\le 180 \\\\\n",
    "\\text{(Non-negativity)} && F,C & \\ge 0\n",
    "\\end{aligned}$$\n",
    "\n",
    "**For parts B) and C), you should plot by hand on a scrap piece of paper. You do not have to submit your hand drawing, but you need to learn to do this for a quiz or an exam.**\n",
    "\n",
    "**B)** Solve the LP graphically. What is the optimal solution and the optimal objective value? What constraints are binding at the optimal solution?\n",
    "\n",
    "The optimal solution is $F=175, C=150$, and the optimal objective value is $40500$.  \n",
    "The binding constraints are $2F+C \\le 500, 2F+3C \\le 800$.\n",
    "\n",
    "**C)** Consider the general assembly labor constraint. Suppose that the number 500 was changed to 510, re-solve the equations of the binding constraints to compute the new optimal solution. What is the difference in the optimal objective value? Divide this by 10 to find the marginal value of 1 unit of additional general assembly labor (which is the shadow price of this constraint). \n",
    "\n",
    "The new optimal solution is $F=182.5, C=145$, and the new optimal objective value is $40750$.  \n",
    "The difference is $+250$, the marginal value of 1 unit of additional general assembly labor is $+25$.\n",
    "\n"
   ]
  },
  {
   "cell_type": "markdown",
   "metadata": {},
   "source": [
    "## Q2 (Production Planning)\n",
    "\n",
    "**DMD Exercise 7.8** Nature's best Frozen Foods company produces four different mixes of frozen ready-to-eat vegetables. The mixes const of five different vegetables: carrots, mushrooms, green peppers, broccoli, and corn. The company manufacturers four different mixes each sold in 10 oz. bags. The mixes are \"Stir Fry\", \"Barbecue\", \"Hearty Mushrooms\" and \"Veggie Crunch,\" and their contributions to earnings (per bag) are 0.22, 0.20, 0.18 and 0.18 respectively. The monthly supplies of carrots, mushrooms, green peppers, broccoli and corn are 150,000 oz., 80,000 oz., 135,000 oz., 140,000 oz., and 150,000 oz. per month, respectively. The compositions of the mixes are shown in the table below. For example, one bag of \"Stir Fry\" mix contains 2.5 oz. of carrots, 3.0 oz. of mushrooms, 2.5 oz. of green peppers, 2.0 oz. of broccoli, and no corn. \n",
    "\n",
    "|` `| Stir Fry | Barbecue | Hearty Mushrooms | Veggie Crunch |\n",
    "|--|--|--|--|--|\n",
    "|Carrots | 2.5 | 2.0 | - | 2.5 |\n",
    "|Mushrooms | 3.0 | - | 4.0 | - |\n",
    "|Green Peppers | 2.5 | 2.0 | 3 | 2.5 |\n",
    "|Broccoli | 2.0 | 3.0 | 3.0 | 2.5 |\n",
    "|Corn | - | 3.0 | - | 2.5 |\n",
    "\n",
    "Construct a LP to determine the optimal product mix to maximize total earnings. (You need to write the math formulation in a Markdown cell following the typesetting instructions at the top of this homework.) Solve this LP using Gurobi. What is the optimal product mix and the optimal objective value? What is the value of an extra ounce of green peppers?"
   ]
  },
  {
   "cell_type": "markdown",
   "metadata": {},
   "source": [
    "**Decision variable:** Let $S, B, H, V$ denote the number of bags of stir fry, barbecue, hearty mushrooms and veggie crunch to produce, respectively. \n",
    "\n",
    "**Objective and constraints:**\n",
    "$$\\begin{aligned}\n",
    "\\text{maximize} && 0.22S+0.20B+0.18H+0.18V \\\\\n",
    "\\text{subject to:} \\\\\n",
    "\\text{(Carrots)} && 2.5S+2B+2.5V & \\le 150000 \\\\\n",
    "\\text{(Mushrooms)} && 3S+4H & \\le 80000 \\\\\n",
    "\\text{(Green Peppers)} && 2.5S+2B+3H+2.5V & \\le 135000 \\\\\n",
    "\\text{(Broccoli)} && 2S+3B+3H+2.5V & \\le 140000 \\\\\n",
    "\\text{(Corn)} && 3B+2.5V & \\le 150000 \\\\\n",
    "\\text{(Non-negativity)} && S,B,H,V & \\ge 0\n",
    "\\end{aligned}$$"
   ]
  },
  {
   "cell_type": "code",
   "execution_count": 3,
   "metadata": {},
   "outputs": [
    {
     "name": "stdout",
     "output_type": "stream",
     "text": [
      "Optimize a model with 5 rows, 4 columns and 15 nonzeros\n",
      "Coefficient statistics:\n",
      "  Matrix range     [2e+00, 4e+00]\n",
      "  Objective range  [2e-01, 2e-01]\n",
      "  Bounds range     [0e+00, 0e+00]\n",
      "  RHS range        [8e+04, 2e+05]\n",
      "Presolve time: 0.00s\n",
      "Presolved: 5 rows, 4 columns, 15 nonzeros\n",
      "\n",
      "Iteration    Objective       Primal Inf.    Dual Inf.      Time\n",
      "       0    7.8000000e+29   1.000000e+31   7.800000e-01      0s\n",
      "       3    1.1813333e+04   0.000000e+00   0.000000e+00      0s\n",
      "\n",
      "Solved in 3 iterations and 0.01 seconds\n",
      "Optimal objective  1.181333333e+04\n"
     ]
    }
   ],
   "source": [
    "import gurobipy as grb\n",
    "mod=grb.Model()\n",
    "S=mod.addVar(lb=0)\n",
    "B=mod.addVar(lb=0)\n",
    "H=mod.addVar(lb=0)\n",
    "V=mod.addVar(lb=0)\n",
    "mod.setObjective(0.22*S+0.20*B+0.18*H+0.18*V,sense=grb.GRB.MAXIMIZE)\n",
    "mod.addConstr(2.5*S+2*B+2.5*V<=150000)\n",
    "mod.addConstr(3*S+4*H<=80000)\n",
    "greenpeppers=mod.addConstr(2.5*S+2*B+3*H+2.5*V<=135000)\n",
    "mod.addConstr(2*S+3*B+3*H+2.5*V<=140000)\n",
    "mod.addConstr(3*B+2.5*V<=150000)\n",
    "mod.optimize()"
   ]
  },
  {
   "cell_type": "code",
   "execution_count": 4,
   "metadata": {},
   "outputs": [
    {
     "name": "stdout",
     "output_type": "stream",
     "text": [
      "Maximum earning: 11813.333333333334\n",
      "Stir Fry: 26666.666666666668\n",
      "Barbecue: 18333.333333333343\n",
      "Hearty Mushrooms: 0.0\n",
      "Veggie Crunch: 12666.666666666655\n",
      "Shadow price of green peppers: 0.016\n"
     ]
    }
   ],
   "source": [
    "print('Maximum earning:',mod.objval)\n",
    "print('Stir Fry:',S.x)\n",
    "print('Barbecue:',B.x)\n",
    "print('Hearty Mushrooms:',H.x)\n",
    "print('Veggie Crunch:',V.x)\n",
    "print('Shadow price of green peppers:', greenpeppers.pi)"
   ]
  },
  {
   "cell_type": "markdown",
   "metadata": {},
   "source": [
    "## Q3 (Portfolio Planning)\n",
    "\n",
    "**(DMD Exercise 7.12)** An investor is considering allocating 10,000 dollars among five investment alternatives. The five alternatives and their respective fund categories, risk levels, and average annual returns are shown below. \n",
    "\n",
    "| Fund | Category | Risk Level | Average Annual Return |\n",
    "|--|--|--|--|\n",
    "| A | Money Market | 1 | 4.50\\% |\n",
    "| B | Money Market | 2 | 5.62 \\% |\n",
    "| C | Bond | 2 | 6.80\\% |\n",
    "| D | Bond | 3 | 10.15\\% |\n",
    "| E | Aggressive Growth | 5 | 20.60\\% |\n",
    "\n",
    "The risk level of each fund is rated on a scale of 1 to 5, where 1 is very conservative and 5 is very risky. The investor would like to maximize the average annual return of the portfolio subject to the following restrictions: \n",
    "\n",
    "1. The average risk level of the entire investment should not exceed 2.5\n",
    "\n",
    "2. At least 30\\% of the investment should be placed in money market funds.\n",
    "\n",
    "3. At most 2,000 dollars should be invested in the aggressive growth fund.\n",
    "\n",
    "Construct and solve a LP to determine the optimal allocation of the investor's money. (You need to write the math formulation nicely in Markdown following the typesetting instructions at the top.)"
   ]
  },
  {
   "cell_type": "markdown",
   "metadata": {},
   "source": [
    "**Decision variable:** Let $A, B, C, D, E$ denote the investment amount into fund A, B, C, D, E, respectively. \n",
    "\n",
    "**Objective and constraints:**\n",
    "$$\\begin{aligned}\n",
    "\\text{maximize} && 0.045A+0.0562B+0.0680C+0.1015D+0.2060E \\\\\n",
    "\\text{subject to:} \\\\\n",
    "\\text{(Budget)} && A+B+C+D+E & \\le 10000 \\\\\n",
    "\\text{(Average Risk Level)} && A+2B+2C+3D+5E & \\le 25000 \\\\\n",
    "\\text{(Money Market Funds)} && A+B & \\ge 3000 \\\\\n",
    "\\text{(Aggressive Growth Fund)} && E & \\le 2000 \\\\\n",
    "\\text{(Non-negativity)} && A,B,C,D,E & \\ge 0\n",
    "\\end{aligned}$$"
   ]
  },
  {
   "cell_type": "code",
   "execution_count": 19,
   "metadata": {},
   "outputs": [
    {
     "name": "stdout",
     "output_type": "stream",
     "text": [
      "Optimize a model with 4 rows, 5 columns and 13 nonzeros\n",
      "Coefficient statistics:\n",
      "  Matrix range     [1e+00, 5e+00]\n",
      "  Objective range  [4e-02, 2e-01]\n",
      "  Bounds range     [0e+00, 0e+00]\n",
      "  RHS range        [2e+03, 2e+04]\n",
      "Presolve removed 1 rows and 0 columns\n",
      "Presolve time: 0.00s\n",
      "Presolved: 3 rows, 5 columns, 12 nonzeros\n",
      "\n",
      "Iteration    Objective       Primal Inf.    Dual Inf.      Time\n",
      "       0    2.0600000e+03   5.937500e+03   0.000000e+00      0s\n",
      "       4    9.6975000e+02   0.000000e+00   0.000000e+00      0s\n",
      "\n",
      "Solved in 4 iterations and 0.01 seconds\n",
      "Optimal objective  9.697500000e+02\n"
     ]
    }
   ],
   "source": [
    "mod=grb.Model()\n",
    "A=mod.addVar(lb=0)\n",
    "B=mod.addVar(lb=0)\n",
    "C=mod.addVar(lb=0)\n",
    "D=mod.addVar(lb=0)\n",
    "E=mod.addVar(lb=0)\n",
    "mod.setObjective(0.045*A+0.0562*B+0.0680*C+0.1015*D+0.2060*E,sense=grb.GRB.MAXIMIZE)\n",
    "mod.addConstr(A+B+C+D+E<=10000)\n",
    "mod.addConstr(A+2*B+2*C+3*D+5*E<=25000)\n",
    "mod.addConstr(A+B>=3000)\n",
    "mod.addConstr(E<=2000)\n",
    "mod.optimize()"
   ]
  },
  {
   "cell_type": "code",
   "execution_count": 21,
   "metadata": {},
   "outputs": [
    {
     "name": "stdout",
     "output_type": "stream",
     "text": [
      "Expected annual return 969.75\n",
      "Optimal allocation:\n",
      "Fund A: 4500.0\n",
      "Fund B: 0.0\n",
      "Fund C: 0.0\n",
      "Fund D: 3500.0\n",
      "Fund E: 2000.0\n"
     ]
    }
   ],
   "source": [
    "print('Expected annual return',mod.objval)\n",
    "print('Optimal allocation:')\n",
    "print('Fund A:',A.x)\n",
    "print('Fund B:',B.x)\n",
    "print('Fund C:',C.x)\n",
    "print('Fund D:',D.x)\n",
    "print('Fund E:',E.x)"
   ]
  },
  {
   "cell_type": "markdown",
   "metadata": {},
   "source": [
    "## Q4 (Project Sub-Contracting)\n",
    "\n",
    "Tom Burke, owner of Burke Construction, has promised to complete five projects this winter. Burke Construction has 10 workers that will work 40 hours a week for 12 weeks this winter. Since this is a limited workforce, Tom knows that he will not be able to complete all of his construction projects without subcontracting some of them. In the table below, he has estimated the amount of labor hours required by each project, and the profit to his company. \n",
    "\n",
    "| Project | 1 | 2 | 3 | 4 | 5 |\n",
    "|--|--|--|--|--|--|\n",
    "| Labor hours required | 1300 | 950 | 1000 | 1400 | 1600 |\n",
    "| Profit (if done by own company) | \\$30,000 | \\$10,000 | \\$26,000 | \\$18,000 | \\$20,000 |\n",
    "| Profit (if subcontracted) | \\$6,000 | \\$2,000 | \\$8,000 | \\$9,000 | \\$4,500 |\n",
    "\n",
    "To maximize profit, which jobs should Tom schedule for his company, and which should be subcontracted? (Formulate this as an optimization problem and solve it.) Assume that projects cannot be partially subcontracted; that is, a project will be completed entirely by either Burke Construction or the subcontractor."
   ]
  },
  {
   "cell_type": "markdown",
   "metadata": {},
   "source": [
    "**Decision variable:** Let $X_i$ be a binary decision variable denoting whether to complete project $i$ by own company, where $i \\in \\{1,2,...5\\}$. ($X_i=1$ if complete project by own company, and $X_i=0$ if subcontract.)\n",
    "\n",
    "**Objective and constraints:**\n",
    "$$\\begin{aligned}\n",
    "\\text{maximize} && 24000X_1+8000X_2+18000X_3+9000X_4+15500X_5\\\\\n",
    "\\text{subject to:} \\\\\n",
    "\\text{(Labor)} && 1300X_1+950X_2+1000X_3+1400X_4+1600X_5 & \\le 4800 \\\\\n",
    "\\end{aligned}$$"
   ]
  },
  {
   "cell_type": "code",
   "execution_count": 23,
   "metadata": {},
   "outputs": [
    {
     "name": "stdout",
     "output_type": "stream",
     "text": [
      "Optimize a model with 1 rows, 5 columns and 5 nonzeros\n",
      "Variable types: 0 continuous, 5 integer (5 binary)\n",
      "Coefficient statistics:\n",
      "  Matrix range     [1e+03, 2e+03]\n",
      "  Objective range  [8e+03, 2e+04]\n",
      "  Bounds range     [1e+00, 1e+00]\n",
      "  RHS range        [5e+03, 5e+03]\n",
      "Found heuristic solution: objective 59000.000000\n",
      "Presolve removed 1 rows and 5 columns\n",
      "Presolve time: 0.00s\n",
      "Presolve: All rows and columns removed\n",
      "\n",
      "Explored 0 nodes (0 simplex iterations) in 0.01 seconds\n",
      "Thread count was 1 (of 8 available processors)\n",
      "\n",
      "Solution count 1: 59000 \n",
      "\n",
      "Optimal solution found (tolerance 1.00e-04)\n",
      "Best objective 5.900000000000e+04, best bound 5.900000000000e+04, gap 0.0000%\n"
     ]
    }
   ],
   "source": [
    "mod=grb.Model()\n",
    "x1=mod.addVar(vtype=grb.GRB.BINARY)\n",
    "x2=mod.addVar(vtype=grb.GRB.BINARY)\n",
    "x3=mod.addVar(vtype=grb.GRB.BINARY)\n",
    "x4=mod.addVar(vtype=grb.GRB.BINARY)\n",
    "x5=mod.addVar(vtype=grb.GRB.BINARY)\n",
    "mod.setObjective(24000*x1+8000*x2+18000*x3+9000*x4+15500*x5,sense=grb.GRB.MAXIMIZE)\n",
    "mod.addConstr(1300*x1+950*x2+1000*x3+1400*x4+1600*x5<=4800)\n",
    "mod.optimize()"
   ]
  },
  {
   "cell_type": "code",
   "execution_count": 25,
   "metadata": {},
   "outputs": [
    {
     "name": "stdout",
     "output_type": "stream",
     "text": [
      "Project 1: 1.0\n",
      "Project 2: 1.0\n",
      "Project 3: 1.0\n",
      "Project 4: 1.0\n",
      "Project 5: 0.0\n"
     ]
    }
   ],
   "source": [
    "print('Project 1:',x1.x)\n",
    "print('Project 2:',x2.x)\n",
    "print('Project 3:',x3.x)\n",
    "print('Project 4:',x4.x)\n",
    "print('Project 5:',x5.x)"
   ]
  },
  {
   "cell_type": "markdown",
   "metadata": {},
   "source": [
    "Optimal Profit is 30000+10000+26000+18000+4500=88500"
   ]
  },
  {
   "cell_type": "code",
   "execution_count": 3,
   "metadata": {},
   "outputs": [
    {
     "name": "stdout",
     "output_type": "stream",
     "text": [
      "Optimal profit: 88500.0\n",
      "  Job 1 for own company.\n",
      "  Job 2 for own company.\n",
      "  Job 3 for own company.\n",
      "  Job 4 for own company.\n",
      "  Job 5 to subcontract.\n"
     ]
    }
   ],
   "source": [
    "# Numerical answer"
   ]
  },
  {
   "cell_type": "markdown",
   "metadata": {},
   "source": [
    "## Q5 (Optimal Advertising Plan)\n",
    "\n",
    "SALS Marketing Inc. is developing an advertising campaign for a large consumer goods corporation. SALS has promised a plan that will yield the highest possible “exposure rating,” a measure of the ability to reach the appropriate demographic group and generate demand. The options for advertisements with their respective costs (per unit of advertising) and per-unit exposure ratings are given in the table below (K stands for thousands). \n",
    "\n",
    "| Category | Subcategory | Cost/Unit | Exposure/Unit |\n",
    "|--|--|--|--|\n",
    "| Magazines | Literary | \\$7.5 K | 15 K |\n",
    "| ` ` | News | \\$10 K | 22.5 K |\n",
    "| ` ` | Topical | \\$15 K | 24 K |\n",
    "| Newspapers |  Morning | \\$2 K | 37.5 K |\n",
    "|` `  | Evening | \\$3 K | 75 K |\n",
    "| Television | Morning | \\$20 K | 275 K |\n",
    "| ` ` | Midday | \\$10 K | 180 K |\n",
    "| ` `  | Evening | \\$60 K | 810 K |\n",
    "| Radio | Morning | \\$15 K | 180 K |\n",
    "| ` ` | Midday | \\$15 K | 17 K |\n",
    "| ` ` | Evening | \\$10 K | 16 K |\n",
    "\n",
    "Of course, certain restrictions exist for the advertising campaign. The client corporation has budgeted 800,000 dollars for the campaign, but to restrict overexposure to any particular audience it wants no more than 300,000 dollars put into any one category (Magazine, Newspaper, etc.). Also, to ensure a broad range of exposure, at least 100,000 dollars must be spent in each category. \n",
    "\n",
    "Formulate this problem as a MIP (which you must typeset nicely) and solve using Gurobi to find the optimal advertising plan. For this question, you can only purchase integer number of units. (Hint on typesetting: you can break a long expression into multiple lines using `\\\\` and control alignment using `&`.)"
   ]
  },
  {
   "cell_type": "markdown",
   "metadata": {},
   "source": [
    "**Decision variable:** Let ML, MN, MT, NM, NE, TM, TN, TE, RM, RN, RE be integer decision variables denoting units of different campaign categories.\n",
    "\n",
    "**Objective and constraints:**\n",
    "$$\\begin{aligned}\n",
    "\\text{maximize} && 15ML+22.5MN+24MT+37.5NM+75NE+275TM+180TN+810TE+180RM+17RN+16RE\\\\\n",
    "\\text{subject to:} \\\\\n",
    "\\text{(Total Budget)} && 7.5ML+10MN+15MT+2NM+3NE+20TM+10TN+60TE+15RM+15RN+10RE & \\le 800 \\\\\n",
    "\\text{(Magazines Budget)} && 7.5ML+10MN+15MT & \\le 300 \\\\\n",
    "\\text{(Newspaper Budget)} && 2NM+3NE & \\le 300 \\\\\n",
    "\\text{(Television Budget)} && 20TM+10TN+60TE & \\le 300 \\\\\n",
    "\\text{(Radio Budget)} && 15RM+15RN+10RE & \\le 300 \\\\\n",
    "\\text{(Magazines Budget)} && 7.5ML+10MN+15MT & \\ge 100 \\\\\n",
    "\\text{(Newspaper Budget)} && 2NM+3NE & \\ge 100 \\\\\n",
    "\\text{(Television Budget)} && 20TM+10TN+60TE & \\ge 100 \\\\\n",
    "\\text{(Radio Budget)} && 15RM+15RN+10RE & \\ge 100 \\\\\n",
    "\\end{aligned}$$"
   ]
  },
  {
   "cell_type": "code",
   "execution_count": 28,
   "metadata": {},
   "outputs": [
    {
     "name": "stdout",
     "output_type": "stream",
     "text": [
      "Optimize a model with 9 rows, 11 columns and 33 nonzeros\n",
      "Variable types: 0 continuous, 11 integer (0 binary)\n",
      "Coefficient statistics:\n",
      "  Matrix range     [2e+00, 6e+01]\n",
      "  Objective range  [2e+01, 8e+02]\n",
      "  Bounds range     [0e+00, 0e+00]\n",
      "  RHS range        [1e+02, 8e+02]\n",
      "Found heuristic solution: objective 7434.5000000\n",
      "Presolve removed 0 rows and 1 columns\n",
      "Presolve time: 0.00s\n",
      "Presolved: 9 rows, 10 columns, 30 nonzeros\n",
      "Found heuristic solution: objective 9909.0000000\n",
      "Variable types: 0 continuous, 10 integer (0 binary)\n",
      "\n",
      "Root relaxation: objective 1.432500e+04, 4 iterations, 0.00 seconds\n",
      "\n",
      "    Nodes    |    Current Node    |     Objective Bounds      |     Work\n",
      " Expl Unexpl |  Obj  Depth IntInf | Incumbent    BestBd   Gap | It/Node Time\n",
      "\n",
      "     0     0 14325.0000    0    1 9909.00000 14325.0000  44.6%     -    0s\n",
      "H    0     0                    14206.500000 14325.0000  0.83%     -    0s\n",
      "H    0     0                    14212.500000 14325.0000  0.79%     -    0s\n",
      "H    0     0                    14235.000000 14325.0000  0.63%     -    0s\n",
      "     0     0 14253.7500    0    2 14235.0000 14253.7500  0.13%     -    0s\n",
      "     0     0     cutoff    0      14235.0000 14235.0000  0.00%     -    0s\n",
      "\n",
      "Cutting planes:\n",
      "  MIR: 2\n",
      "  Mod-K: 1\n",
      "\n",
      "Explored 1 nodes (8 simplex iterations) in 0.02 seconds\n",
      "Thread count was 8 (of 8 available processors)\n",
      "\n",
      "Solution count 5: 14235 14212.5 14206.5 ... 8575.5\n",
      "\n",
      "Optimal solution found (tolerance 1.00e-04)\n",
      "Best objective 1.423500000000e+04, best bound 1.423500000000e+04, gap 0.0000%\n"
     ]
    }
   ],
   "source": [
    "mod=grb.Model()\n",
    "ML=mod.addVar(vtype=grb.GRB.INTEGER)\n",
    "MN=mod.addVar(vtype=grb.GRB.INTEGER)\n",
    "MT=mod.addVar(vtype=grb.GRB.INTEGER)\n",
    "NM=mod.addVar(vtype=grb.GRB.INTEGER)\n",
    "NE=mod.addVar(vtype=grb.GRB.INTEGER)\n",
    "TM=mod.addVar(vtype=grb.GRB.INTEGER)\n",
    "TN=mod.addVar(vtype=grb.GRB.INTEGER)\n",
    "TE=mod.addVar(vtype=grb.GRB.INTEGER)\n",
    "RM=mod.addVar(vtype=grb.GRB.INTEGER)\n",
    "RN=mod.addVar(vtype=grb.GRB.INTEGER)\n",
    "RE=mod.addVar(vtype=grb.GRB.INTEGER)\n",
    "mod.setObjective(15*ML+22.5*MN+24*MT+37.5*NM+75*NE+275*TM+180*TN+810*TE+180*RM+17*RN+16*RE,sense=grb.GRB.MAXIMIZE)\n",
    "mod.addConstr(7.5*ML+10*MN+15*MT+2*NM+3*NE+20*TM+10*TN+60*TE+15*RM+15*RN+10*RE<=800)\n",
    "mod.addConstr(7.5*ML+10*MN+15*MT<=300)\n",
    "mod.addConstr(2*NM+3*NE<=300)\n",
    "mod.addConstr(20*TM+10*TN+60*TE<=300)\n",
    "mod.addConstr(15*RM+15*RN+10*RE<=300)\n",
    "mod.addConstr(7.5*ML+10*MN+15*MT>=100)\n",
    "mod.addConstr(2*NM+3*NE>=100)\n",
    "mod.addConstr(20*TM+10*TN+60*TE>=100)\n",
    "mod.addConstr(15*RM+15*RN+10*RE>=100)\n",
    "mod.optimize()"
   ]
  },
  {
   "cell_type": "code",
   "execution_count": 29,
   "metadata": {},
   "outputs": [
    {
     "name": "stdout",
     "output_type": "stream",
     "text": [
      "Maximum exposure rating (in thousands): 14235.0\n",
      "Advertising plan (units):\n",
      "Magazine Literary: -0.0\n",
      "Magazine News: 10.0\n",
      "Magazine Topical: -0.0\n",
      "News Morning: 0.0\n",
      "News Evening: 98.0\n",
      "TV Morning: -0.0\n",
      "TV Midday: 30.0\n",
      "TV Evening: -0.0\n",
      "Radio Morning: 7.0\n",
      "Radio Day: -0.0\n",
      "Radio Evening: -0.0\n"
     ]
    }
   ],
   "source": [
    "print('Maximum exposure rating (in thousands):',mod.objval)\n",
    "print('Advertising plan (units):')\n",
    "print('Magazine Literary:',ML.x)\n",
    "print('Magazine News:',MN.x)\n",
    "print('Magazine Topical:',MT.x)\n",
    "print('News Morning:',NM.x)\n",
    "print('News Evening:',NE.x)\n",
    "print('TV Morning:',TM.x)\n",
    "print('TV Midday:',TN.x)\n",
    "print('TV Evening:',TE.x)\n",
    "print('Radio Morning:',RM.x)\n",
    "print('Radio Day:',RN.x)\n",
    "print('Radio Evening:',RE.x)"
   ]
  }
 ],
 "metadata": {
  "kernelspec": {
   "display_name": "Python 3",
   "language": "python",
   "name": "python3"
  },
  "language_info": {
   "codemirror_mode": {
    "name": "ipython",
    "version": 3
   },
   "file_extension": ".py",
   "mimetype": "text/x-python",
   "name": "python",
   "nbconvert_exporter": "python",
   "pygments_lexer": "ipython3",
   "version": "3.7.1"
  }
 },
 "nbformat": 4,
 "nbformat_minor": 2
}
